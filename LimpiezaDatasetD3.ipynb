{
 "cells": [
  {
   "cell_type": "code",
   "execution_count": 10,
   "id": "f6a03965",
   "metadata": {},
   "outputs": [],
   "source": [
    "import pandas as pd\n",
    "\n",
    "def mantener_top_10(dataset_csv):\n",
    "    # Leer el dataset\n",
    "    df = pd.read_csv(dataset_csv)\n",
    "    \n",
    "    # Obtener los nombres del top 10 de 2023\n",
    "    top_2023 = df[df['year'] == 2023].nsmallest(10, 'rank')['full_name']\n",
    "    \n",
    "    # Filtrar el dataframe para mantener solo los nombres del top 10 de 2023\n",
    "    df_filtrado = df[df['full_name'].isin(top_2023)]\n",
    "    \n",
    "    \n",
    "    df_selected = df_filtrado[['year', 'full_name', 'net_worth', 'rank' ]]\n",
    "    df_selected.loc[:, 'net_worth'] = pd.to_numeric(df_selected['net_worth'].str.replace(' B', ''))\n",
    "\n",
    "    \n",
    "    # Guardar los datos en json\n",
    "    df_selected.to_json('all_billionaires_1997_2023.json', orient='records', indent=4)\n",
    "\n",
    "# Uso de la función\n",
    "mantener_top_10('all_billionaires_1997_2023.csv')"
   ]
  },
  {
   "cell_type": "code",
   "execution_count": null,
   "id": "e49a52d5",
   "metadata": {},
   "outputs": [],
   "source": []
  }
 ],
 "metadata": {
  "kernelspec": {
   "display_name": "Python 3 (ipykernel)",
   "language": "python",
   "name": "python3"
  },
  "language_info": {
   "codemirror_mode": {
    "name": "ipython",
    "version": 3
   },
   "file_extension": ".py",
   "mimetype": "text/x-python",
   "name": "python",
   "nbconvert_exporter": "python",
   "pygments_lexer": "ipython3",
   "version": "3.11.5"
  }
 },
 "nbformat": 4,
 "nbformat_minor": 5
}
